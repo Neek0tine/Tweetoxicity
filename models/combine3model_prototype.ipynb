{
 "cells": [
  {
   "cell_type": "code",
   "execution_count": 2,
   "metadata": {},
   "outputs": [],
   "source": [
    "import pickle\n",
    "import numpy as np"
   ]
  },
  {
   "cell_type": "code",
   "execution_count": 3,
   "metadata": {},
   "outputs": [
    {
     "data": {
      "text/plain": [
       "<function BufferedReader.close>"
      ]
     },
     "execution_count": 3,
     "metadata": {},
     "output_type": "execute_result"
    }
   ],
   "source": [
    "file = open('pickle/CombineModel.pkl', 'rb')\n",
    "model = pickle.load(file)\n",
    "file.close()\n",
    "\n",
    "file = open('pickle/vectorizer.pkl', 'rb')\n",
    "vectorizer = pickle.load(file)\n",
    "file.close"
   ]
  },
  {
   "cell_type": "code",
   "execution_count": 4,
   "metadata": {},
   "outputs": [],
   "source": [
    "from packages.text import cleaning, flat\n",
    "inputs = 'genshin is a shit game but i love you @obama'\n",
    "cleaning = cleaning(inputs)\n",
    "vec_inputs = vectorizer.transform([cleaning])"
   ]
  },
  {
   "cell_type": "code",
   "execution_count": 5,
   "metadata": {},
   "outputs": [
    {
     "data": {
      "application/javascript": "\n        if (window._pyforest_update_imports_cell) { window._pyforest_update_imports_cell('import pandas as pd\\nimport pickle'); }\n    ",
      "text/plain": [
       "<IPython.core.display.Javascript object>"
      ]
     },
     "metadata": {},
     "output_type": "display_data"
    },
    {
     "data": {
      "text/html": [
       "<div>\n",
       "<style scoped>\n",
       "    .dataframe tbody tr th:only-of-type {\n",
       "        vertical-align: middle;\n",
       "    }\n",
       "\n",
       "    .dataframe tbody tr th {\n",
       "        vertical-align: top;\n",
       "    }\n",
       "\n",
       "    .dataframe thead th {\n",
       "        text-align: right;\n",
       "    }\n",
       "</style>\n",
       "<table border=\"1\" class=\"dataframe\">\n",
       "  <thead>\n",
       "    <tr style=\"text-align: right;\">\n",
       "      <th></th>\n",
       "      <th>model</th>\n",
       "      <th>predict</th>\n",
       "      <th>confidence</th>\n",
       "    </tr>\n",
       "  </thead>\n",
       "  <tbody>\n",
       "    <tr>\n",
       "      <th>0</th>\n",
       "      <td>LRpred</td>\n",
       "      <td>POSITIVE</td>\n",
       "      <td>0.516129</td>\n",
       "    </tr>\n",
       "    <tr>\n",
       "      <th>1</th>\n",
       "      <td>SVCpred</td>\n",
       "      <td>NEGATIVE</td>\n",
       "      <td>0.697854</td>\n",
       "    </tr>\n",
       "    <tr>\n",
       "      <th>2</th>\n",
       "      <td>BNBpred</td>\n",
       "      <td>POSITIVE</td>\n",
       "      <td>0.622460</td>\n",
       "    </tr>\n",
       "  </tbody>\n",
       "</table>\n",
       "</div>"
      ],
      "text/plain": [
       "     model   predict  confidence\n",
       "0   LRpred  POSITIVE    0.516129\n",
       "1  SVCpred  NEGATIVE    0.697854\n",
       "2  BNBpred  POSITIVE    0.622460"
      ]
     },
     "execution_count": 5,
     "metadata": {},
     "output_type": "execute_result"
    }
   ],
   "source": [
    "LRpred = model['LRmodel'].predict(vec_inputs)\n",
    "SVCpred = model['SVCmodel'].predict(vec_inputs)\n",
    "BNBpred = model['BNBmodel'].predict(vec_inputs)\n",
    "\n",
    "LRpred_conf = max(flat(model['LRmodel'].predict_proba(vec_inputs)))\n",
    "SVCpred_conf = max(flat(model['SVCmodel'].predict_proba(vec_inputs)))\n",
    "BNBpred_conf = max(flat(model['BNBmodel'].predict_proba(vec_inputs)))\n",
    "\n",
    "result = np.concatenate((LRpred, SVCpred, BNBpred))\n",
    "result_conf = [LRpred_conf, SVCpred_conf, BNBpred_conf]\n",
    "\n",
    "\n",
    "d = {\n",
    "    'model': ['LRpred', 'SVCpred', 'BNBpred'],\n",
    "    'predict': result,\n",
    "    'confidence': result_conf\n",
    "}\n",
    "x = pd.DataFrame(d)\n",
    "x"
   ]
  },
  {
   "cell_type": "code",
   "execution_count": 6,
   "metadata": {},
   "outputs": [
    {
     "name": "stdout",
     "output_type": "stream",
     "text": [
      "Sentiment: POSITIVE\n",
      "Confidence Level: 62.25%\n"
     ]
    }
   ],
   "source": [
    "result_pred = x.predict.mode()[0]\n",
    "confidence = round(x[x['predict'] == x.predict.mode()[0]]['confidence'].max()*100,2)\n",
    "print(f\"Sentiment: {result_pred}\")\n",
    "print(f\"Confidence Level: {confidence}%\")"
   ]
  }
 ],
 "metadata": {
  "interpreter": {
   "hash": "c9614373613a18e3522af50f71d4d8a6930b31566ad7ad82e9aaf0473e52b5d3"
  },
  "kernelspec": {
   "display_name": "Python 3.10.0 64-bit ('myenv': venv)",
   "language": "python",
   "name": "python3"
  },
  "language_info": {
   "codemirror_mode": {
    "name": "ipython",
    "version": 3
   },
   "file_extension": ".py",
   "mimetype": "text/x-python",
   "name": "python",
   "nbconvert_exporter": "python",
   "pygments_lexer": "ipython3",
   "version": "3.10.0"
  },
  "orig_nbformat": 4
 },
 "nbformat": 4,
 "nbformat_minor": 2
}
