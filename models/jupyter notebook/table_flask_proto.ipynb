{
 "cells": [
  {
   "cell_type": "code",
   "execution_count": 105,
   "metadata": {},
   "outputs": [],
   "source": [
    "import pandas as pd"
   ]
  },
  {
   "cell_type": "code",
   "execution_count": 110,
   "metadata": {},
   "outputs": [
    {
     "data": {
      "text/html": [
       "<div>\n",
       "<style scoped>\n",
       "    .dataframe tbody tr th:only-of-type {\n",
       "        vertical-align: middle;\n",
       "    }\n",
       "\n",
       "    .dataframe tbody tr th {\n",
       "        vertical-align: top;\n",
       "    }\n",
       "\n",
       "    .dataframe thead th {\n",
       "        text-align: right;\n",
       "    }\n",
       "</style>\n",
       "<table border=\"1\" class=\"dataframe\">\n",
       "  <thead>\n",
       "    <tr style=\"text-align: right;\">\n",
       "      <th></th>\n",
       "      <th>original text</th>\n",
       "      <th>clean text</th>\n",
       "      <th>sentiment</th>\n",
       "      <th>confidence</th>\n",
       "    </tr>\n",
       "  </thead>\n",
       "  <tbody>\n",
       "    <tr>\n",
       "      <th>0</th>\n",
       "      <td>@jimfarley98 Thanks</td>\n",
       "      <td>thanks</td>\n",
       "      <td>POSITIVE</td>\n",
       "      <td>96.14</td>\n",
       "    </tr>\n",
       "    <tr>\n",
       "      <th>1</th>\n",
       "      <td>Will also be important for Mars</td>\n",
       "      <td>also important mar</td>\n",
       "      <td>POSITIVE</td>\n",
       "      <td>91.59</td>\n",
       "    </tr>\n",
       "    <tr>\n",
       "      <th>2</th>\n",
       "      <td>SpaceX is starting a program to take CO2 out o...</td>\n",
       "      <td>spacex starting program take co2 atmosphere am...</td>\n",
       "      <td>POSITIVE</td>\n",
       "      <td>90.22</td>\n",
       "    </tr>\n",
       "    <tr>\n",
       "      <th>3</th>\n",
       "      <td>@WholeMarsBlog Penalizing sustainable energy i...</td>\n",
       "      <td>penalizing sustainable energy insane</td>\n",
       "      <td>NEGATIVE</td>\n",
       "      <td>58.21</td>\n",
       "    </tr>\n",
       "    <tr>\n",
       "      <th>4</th>\n",
       "      <td>@PPathole @HardcoreHistory I will ask Dan for ...</td>\n",
       "      <td>ask dan tip</td>\n",
       "      <td>POSITIVE</td>\n",
       "      <td>93.37</td>\n",
       "    </tr>\n",
       "  </tbody>\n",
       "</table>\n",
       "</div>"
      ],
      "text/plain": [
       "                                       original text  \\\n",
       "0                                @jimfarley98 Thanks   \n",
       "1                    Will also be important for Mars   \n",
       "2  SpaceX is starting a program to take CO2 out o...   \n",
       "3  @WholeMarsBlog Penalizing sustainable energy i...   \n",
       "4  @PPathole @HardcoreHistory I will ask Dan for ...   \n",
       "\n",
       "                                          clean text sentiment  confidence  \n",
       "0                                             thanks  POSITIVE       96.14  \n",
       "1                                 also important mar  POSITIVE       91.59  \n",
       "2  spacex starting program take co2 atmosphere am...  POSITIVE       90.22  \n",
       "3               penalizing sustainable energy insane  NEGATIVE       58.21  \n",
       "4                                        ask dan tip  POSITIVE       93.37  "
      ]
     },
     "execution_count": 110,
     "metadata": {},
     "output_type": "execute_result"
    }
   ],
   "source": [
    "path = './data/elonmusk_tweets.csv'\n",
    "\n",
    "df = pd.read_csv(path)\n",
    "df.head()"
   ]
  },
  {
   "cell_type": "code",
   "execution_count": 113,
   "metadata": {},
   "outputs": [],
   "source": [
    "from wordcloud import WordCloud\n",
    "from PIL import Image\n",
    "df.dropna(inplace=True)\n",
    "\n",
    "\n",
    "WC = WordCloud(\n",
    "    max_words=2000,\n",
    "    width=900,\n",
    "    height=800\n",
    ").generate(' '.join(str(v) for v in df['clean text']))\n",
    "WC.to_file('wordcloud.png')\n",
    "\n",
    "filename = Image.open('wordcloud.png')\n",
    "filename.show()"
   ]
  },
  {
   "cell_type": "code",
   "execution_count": 93,
   "metadata": {},
   "outputs": [
    {
     "ename": "TypeError",
     "evalue": "string indices must be integers",
     "output_type": "error",
     "traceback": [
      "\u001b[1;31m---------------------------------------------------------------------------\u001b[0m",
      "\u001b[1;31mTypeError\u001b[0m                                 Traceback (most recent call last)",
      "\u001b[1;32m<timed exec>\u001b[0m in \u001b[0;36m<module>\u001b[1;34m\u001b[0m\n",
      "\u001b[1;31mTypeError\u001b[0m: string indices must be integers"
     ]
    }
   ],
   "source": [
    "%%time\n",
    "\n",
    "org_text = []\n",
    "sentiment = []\n",
    "confidence = []\n",
    "for txt in a:\n",
    "    org_text = txt['original text']\n",
    "    sentiment = txt['sentiment']\n",
    "    confidence = txt['confidence']\n",
    "\n",
    "p = [(org_text, sentiment, confidence)]\n",
    "p"
   ]
  },
  {
   "cell_type": "code",
   "execution_count": null,
   "metadata": {},
   "outputs": [
    {
     "name": "stdout",
     "output_type": "stream",
     "text": [
      "Wall time: 0 ns\n"
     ]
    },
    {
     "data": {
      "text/plain": [
       "[('@jimfarley98 Thanks', 'POSITIVE', 96.14),\n",
       " ('Will also be important for Mars', 'POSITIVE', 91.59),\n",
       " ('SpaceX is starting a program to take CO2 out of atmosphere &amp; turn it into rocket fuel. Please join if interested.',\n",
       "  'POSITIVE',\n",
       "  90.22),\n",
       " ('@WholeMarsBlog Penalizing sustainable energy is insane', 'NEGATIVE', 58.21),\n",
       " ('@PPathole @HardcoreHistory I will ask Dan for some tips!',\n",
       "  'POSITIVE',\n",
       "  93.37),\n",
       " ('@HardcoreHistory Forgot to mention the Mosquito, which was arguably the most innovative airframe design',\n",
       "  'POSITIVE',\n",
       "  77.02),\n",
       " ('@TrungTPhan 🤣', 'POSITIVE', 63.43),\n",
       " ('@kimbal Thanks bro', 'POSITIVE', 95.01),\n",
       " ('@westcoastbill 🤣', 'POSITIVE', 63.43),\n",
       " ('@DOGEHOUNDS @HardcoreHistory Overall kill ratio was 19:1, but kill ratio against the Zero was 13:1',\n",
       "  'NEGATIVE',\n",
       "  73.72),\n",
       " ('@HardcoreHistory Apologies for any errors in this podcast!',\n",
       "  'NEGATIVE',\n",
       "  79.7),\n",
       " ('@TIME Thank you!', 'POSITIVE', 96.98),\n",
       " ('@DJSnM Interesting payload number', 'POSITIVE', 87.87),\n",
       " ('https://t.co/KPQrN13zr9', 'POSITIVE', 63.43),\n",
       " ('@BillyM2k True ♥️', 'POSITIVE', 75.82),\n",
       " ('@szymon_kasprzyk She seems cool', 'POSITIVE', 83.41),\n",
       " ('@Rainmaker1973 👾', 'POSITIVE', 63.43),\n",
       " ('@ahmadtariq07 I was slightly aiming for that', 'POSITIVE', 80.9),\n",
       " ('https://t.co/5LE1PjFwgS', 'POSITIVE', 63.43),\n",
       " ('Sine qua non non https://t.co/iTBlSwiX53', 'NEGATIVE', 54.76),\n",
       " ('Sorry https://t.co/ppBPBAWxZ6', 'NEGATIVE', 88.61),\n",
       " ('@Neuro_Skeptic Does anything actually work?', 'NEGATIVE', 68.43),\n",
       " ('@PPathole @engineers_feed Literally', 'POSITIVE', 51.65),\n",
       " ('@PPathole @engineers_feed martians911', 'POSITIVE', 63.43),\n",
       " ('@28delayslater @RationalEtienne @balajis Yup', 'POSITIVE', 82.35),\n",
       " ('@engineers_feed 🤣', 'POSITIVE', 63.43),\n",
       " ('@HardcoreHistory I think I mentioned “octane” too much haha … but it was actually a big deal',\n",
       "  'POSITIVE',\n",
       "  85.18),\n",
       " ('@RationalEtienne @balajis Sonic, the Hedgehog, game coming to all Teslas!',\n",
       "  'POSITIVE',\n",
       "  65.18),\n",
       " ('Just did a @HardcoreHistory episode with Dan Carlin. Hope you like it.',\n",
       "  'POSITIVE',\n",
       "  87.68),\n",
       " ('@teslaownersSV It takes 20 years (time from conception to adult) to reverse demographic trends',\n",
       "  'POSITIVE',\n",
       "  59.56),\n",
       " ('@ItsGime @BillyM2k Maybe a little 😉', 'POSITIVE', 94.08),\n",
       " ('@BillyM2k Sulla and the original Nero who was instrumental in defeating Hannibal are underrated',\n",
       "  'POSITIVE',\n",
       "  80.96),\n",
       " ('“No better friend, no worse enemy” https://t.co/e2TeRBiFbg',\n",
       "  'NEGATIVE',\n",
       "  69.15),\n",
       " ('@Rainmaker1973 Real androids are coming', 'POSITIVE', 78.09),\n",
       " ('@Erdayastronaut Very impressive development history', 'POSITIVE', 74.68),\n",
       " ('@AlbertEinstein 👽', 'POSITIVE', 63.43),\n",
       " ('@PPathole Absolutely', 'POSITIVE', 82.68),\n",
       " ('@shivon 🤚', 'POSITIVE', 63.43),\n",
       " ('@ajtourville They have no idea', 'NEGATIVE', 52.21),\n",
       " ('@engineers_feed Um … yes', 'POSITIVE', 95.12),\n",
       " ('@WholeMarsBlog Should arguably be called 11', 'POSITIVE', 81.58),\n",
       " ('@WholeMarsBlog 10.7 next week is great', 'POSITIVE', 87.14),\n",
       " ('@Model3Owners That is not the production wiper', 'NEGATIVE', 52.71),\n",
       " ('@tesletter Lasers can do anything', 'POSITIVE', 67.34),\n",
       " ('@Tesmanian_com There will be a few tweaks before production',\n",
       "  'POSITIVE',\n",
       "  89.49),\n",
       " ('@JeremyCom I do aspire to entertain the people!', 'POSITIVE', 87.5),\n",
       " ('@GailAlfarATX @SawyerMerritt @dogecoin Imbued gold/bronze color would be sick',\n",
       "  'POSITIVE',\n",
       "  74.13),\n",
       " ('@jackfarrington @SawyerMerritt Manufacturers have to ship cars with side mirrors by law, but owners are allowed to… https://t.co/4r6RbRrfJQ',\n",
       "  'NEGATIVE',\n",
       "  90.82),\n",
       " ('@TeslaDylan @SawyerMerritt Not at first, but there are many third party options for wrapping',\n",
       "  'POSITIVE',\n",
       "  68.88),\n",
       " ('@SawyerMerritt Cybertruck can have any color you want, so long as it’s nothing',\n",
       "  'NEGATIVE',\n",
       "  74.49),\n",
       " ('Mars &amp; Cars', 'NEGATIVE', 53.51),\n",
       " ('@SawyerMerritt CGI IRL', 'NEGATIVE', 51.43),\n",
       " ('Wow, only three weeks to 2022! \\nWhat will 2032 will be like? \\nSeems so futuristic!\\nWill we be on Mars?',\n",
       "  'NEGATIVE',\n",
       "  57.9),\n",
       " ('Hahaha … ?1', 'POSITIVE', 92.15),\n",
       " ('@Albi_SideArms maybe i will …', 'POSITIVE', 79.17),\n",
       " ('@jack https://t.co/ueyR6NAwap', 'POSITIVE', 63.43),\n",
       " ('@SawyerMerritt 🤣🤣', 'POSITIVE', 63.43),\n",
       " ('@SawyerMerritt Tesla China has done amazing work', 'POSITIVE', 74.49),\n",
       " ('@MrBeast 🙏', 'POSITIVE', 63.43),\n",
       " ('@planet4589 Earth should be called Water', 'POSITIVE', 60.31),\n",
       " ('@samifouad 🤣', 'POSITIVE', 63.43),\n",
       " ('@tobyliiiiiiiiii noobtoob', 'POSITIVE', 63.43),\n",
       " ('thinking of quitting my jobs &amp; becoming an influencer full-time wdyt',\n",
       "  'POSITIVE',\n",
       "  58.81),\n",
       " ('https://t.co/ZrZ1EfLYWy', 'POSITIVE', 63.43),\n",
       " ('@teslaownersSV 🔥🔥', 'POSITIVE', 63.43),\n",
       " ('@BillyM2k @TheCryptoCPA 😬', 'POSITIVE', 63.43),\n",
       " (\"RT @SpaceX: More photos from last night's Falcon 9 launch of @NASA's IXPE mission to better understand black holes, neutron stars, and othe…\",\n",
       "  'POSITIVE',\n",
       "  85.64),\n",
       " ('@BallAerospace @NASA_Marshall @NASA @SpaceX Congrats!', 'POSITIVE', 97.37),\n",
       " ('@_rykllan @SpaceX @FelixSchlang @MarcusHouse @Erdayastronaut @bluemoondance74 @NextHorizonsSF Rocket fleets grows',\n",
       "  'POSITIVE',\n",
       "  89.3),\n",
       " ('@SquawkCNBC @GordonJohnson19 🤣🤣', 'POSITIVE', 63.43),\n",
       " ('@Rainmaker1973 Amazing engine!', 'POSITIVE', 91.02),\n",
       " ('@cnunezimages @SpaceX @SpaceIntellige3 💯', 'POSITIVE', 63.43),\n",
       " ('@Rainmaker1973 Shanghai is beautiful', 'POSITIVE', 82.75),\n",
       " ('@PPathole Probably way sooner before it’s too hot for civilization',\n",
       "  'NEGATIVE',\n",
       "  52.28),\n",
       " ('RT @SpaceX: All systems and weather are looking good ahead of tonight’s launch of IXPE for @NASA https://t.co/bJFjLCzWdK https://t.co/tCYnB…',\n",
       "  'NEGATIVE',\n",
       "  64.1),\n",
       " ('Unless susceptible to extreme natural disasters, nuclear power plants should not be shut down',\n",
       "  'NEGATIVE',\n",
       "  57.17),\n",
       " ('@WatcherGuru Taxing all billionaires at 100% only drops national debt by ~10%, which is just one year of deficit spending',\n",
       "  'NEGATIVE',\n",
       "  63.68),\n",
       " ('@WatcherGuru This is scary, something’s got to give', 'NEGATIVE', 62.21),\n",
       " ('Nothing is more permanent than a “temporary” government program',\n",
       "  'NEGATIVE',\n",
       "  63.6),\n",
       " ('@traderjourney Exactly!', 'POSITIVE', 76.21),\n",
       " (nan, nan, nan),\n",
       " (nan, nan, nan),\n",
       " (nan, nan, nan),\n",
       " (nan, nan, nan),\n",
       " (nan, nan, nan),\n",
       " (nan, nan, nan),\n",
       " (nan, nan, nan),\n",
       " (nan, nan, nan),\n",
       " (nan, nan, nan),\n",
       " (nan, nan, nan),\n",
       " (nan, nan, nan),\n",
       " (nan, nan, nan),\n",
       " (nan, nan, nan),\n",
       " (nan, nan, nan),\n",
       " (nan, nan, nan),\n",
       " (nan, nan, nan),\n",
       " (nan, nan, nan),\n",
       " (nan, nan, nan),\n",
       " (nan, nan, nan),\n",
       " (nan, nan, nan),\n",
       " (nan, nan, nan),\n",
       " (nan, nan, nan),\n",
       " (nan, nan, nan),\n",
       " (nan, nan, nan),\n",
       " (nan, nan, nan),\n",
       " (nan, nan, nan),\n",
       " (nan, nan, nan),\n",
       " (nan, nan, nan),\n",
       " (nan, nan, nan),\n",
       " (nan, nan, nan),\n",
       " (nan, nan, nan),\n",
       " (nan, nan, nan),\n",
       " (nan, nan, nan),\n",
       " (nan, nan, nan),\n",
       " (nan, nan, nan),\n",
       " (nan, nan, nan),\n",
       " (nan, nan, nan),\n",
       " (nan, nan, nan),\n",
       " (nan, nan, nan),\n",
       " (nan, nan, nan),\n",
       " (nan, nan, nan),\n",
       " (nan, nan, nan),\n",
       " (nan, nan, nan),\n",
       " (nan, nan, nan),\n",
       " (nan, nan, nan),\n",
       " (nan, nan, nan),\n",
       " (nan, nan, nan),\n",
       " (nan, nan, nan),\n",
       " (nan, nan, nan),\n",
       " (nan, nan, nan),\n",
       " (nan, nan, nan),\n",
       " (nan, nan, nan),\n",
       " (nan, nan, nan),\n",
       " (nan, nan, nan),\n",
       " (nan, nan, nan)]"
      ]
     },
     "execution_count": 18,
     "metadata": {},
     "output_type": "execute_result"
    }
   ],
   "source": [
    "%%time\n",
    "\n",
    "Items = []\n",
    "for tweet in a:\n",
    "    Items = [(a, b, c) for a, b, c in zip(tweet['original text'], tweet['sentiment'], tweet['confidence'])]\n",
    "    \n",
    "Items"
   ]
  },
  {
   "cell_type": "code",
   "execution_count": null,
   "metadata": {},
   "outputs": [
    {
     "data": {
      "text/html": [
       "<div>\n",
       "<style scoped>\n",
       "    .dataframe tbody tr th:only-of-type {\n",
       "        vertical-align: middle;\n",
       "    }\n",
       "\n",
       "    .dataframe tbody tr th {\n",
       "        vertical-align: top;\n",
       "    }\n",
       "\n",
       "    .dataframe thead th {\n",
       "        text-align: right;\n",
       "    }\n",
       "</style>\n",
       "<table border=\"1\" class=\"dataframe\">\n",
       "  <thead>\n",
       "    <tr style=\"text-align: right;\">\n",
       "      <th></th>\n",
       "      <th>index</th>\n",
       "      <th>sentiment</th>\n",
       "    </tr>\n",
       "  </thead>\n",
       "  <tbody>\n",
       "    <tr>\n",
       "      <th>0</th>\n",
       "      <td>POSITIVE</td>\n",
       "      <td>60</td>\n",
       "    </tr>\n",
       "    <tr>\n",
       "      <th>1</th>\n",
       "      <td>NEGATIVE</td>\n",
       "      <td>20</td>\n",
       "    </tr>\n",
       "  </tbody>\n",
       "</table>\n",
       "</div>"
      ],
      "text/plain": [
       "      index  sentiment\n",
       "0  POSITIVE         60\n",
       "1  NEGATIVE         20"
      ]
     },
     "execution_count": 19,
     "metadata": {},
     "output_type": "execute_result"
    }
   ],
   "source": [
    "df_count_sentiment = df['sentiment'].value_counts().to_frame().reset_index()\n",
    "df_count_sentiment"
   ]
  },
  {
   "cell_type": "code",
   "execution_count": 94,
   "metadata": {},
   "outputs": [
    {
     "data": {
      "text/plain": [
       "Series([], Name: sentiment, dtype: int64)"
      ]
     },
     "execution_count": 94,
     "metadata": {},
     "output_type": "execute_result"
    }
   ],
   "source": [
    "df_count_sentiment.query(\"index == 'POSITIVE'\")[\"sentiment\"]"
   ]
  },
  {
   "cell_type": "code",
   "execution_count": 95,
   "metadata": {},
   "outputs": [
    {
     "data": {
      "text/plain": [
       "Series([], Name: sentiment, dtype: int64)"
      ]
     },
     "execution_count": 95,
     "metadata": {},
     "output_type": "execute_result"
    }
   ],
   "source": [
    "df_count_sentiment.query(\"index == 'NEGATIVE'\")[\"sentiment\"]"
   ]
  },
  {
   "cell_type": "code",
   "execution_count": 96,
   "metadata": {},
   "outputs": [],
   "source": [
    "    df_count_sentiment = df['sentiment'].value_counts().to_frame()\n",
    "    df_count_sentiment['percentage'] = round(\n",
    "        df_count_sentiment['sentiment'] / df_count_sentiment['sentiment'].sum() * 100, 2)\n",
    "    df_count_sentiment = df_count_sentiment.reset_index().rename({'index': 'final_sentiment'}, axis=1)"
   ]
  },
  {
   "cell_type": "code",
   "execution_count": 23,
   "metadata": {},
   "outputs": [
    {
     "data": {
      "text/plain": [
       "'POSITIVE'"
      ]
     },
     "execution_count": 23,
     "metadata": {},
     "output_type": "execute_result"
    }
   ],
   "source": [
    "df_count_sentiment\n",
    "\n",
    "sentiment = df_count_sentiment['final_sentiment'].max()\n",
    "sentiment"
   ]
  },
  {
   "cell_type": "code",
   "execution_count": 24,
   "metadata": {},
   "outputs": [],
   "source": [
    "POSITIVE = []\n",
    "NEGATIVE = []\n",
    "\n",
    "POSITIVE = int(df_count_sentiment.query(\"final_sentiment == 'POSITIVE'\")[\"sentiment\"])\n",
    "NEGATIVE = int(df_count_sentiment.query(\"final_sentiment == 'NEGATIVE'\")[\"sentiment\"])"
   ]
  },
  {
   "cell_type": "code",
   "execution_count": 25,
   "metadata": {},
   "outputs": [
    {
     "data": {
      "text/plain": [
       "60"
      ]
     },
     "execution_count": 25,
     "metadata": {},
     "output_type": "execute_result"
    }
   ],
   "source": [
    "POSITIVE"
   ]
  },
  {
   "cell_type": "code",
   "execution_count": 26,
   "metadata": {},
   "outputs": [
    {
     "data": {
      "text/plain": [
       "20"
      ]
     },
     "execution_count": 26,
     "metadata": {},
     "output_type": "execute_result"
    }
   ],
   "source": [
    "NEGATIVE"
   ]
  },
  {
   "cell_type": "code",
   "execution_count": 27,
   "metadata": {},
   "outputs": [
    {
     "name": "stdout",
     "output_type": "stream",
     "text": [
      "Collecting demoji\n",
      "  Downloading demoji-1.1.0-py3-none-any.whl (42 kB)\n",
      "Installing collected packages: demoji\n",
      "Successfully installed demoji-1.1.0\n"
     ]
    }
   ],
   "source": [
    "!pip install demoji\n"
   ]
  },
  {
   "cell_type": "code",
   "execution_count": 29,
   "metadata": {},
   "outputs": [
    {
     "name": "stderr",
     "output_type": "stream",
     "text": [
      "C:\\Users\\fathu\\AppData\\Local\\Temp/ipykernel_9344/2319952594.py:2: FutureWarning: The demoji.download_codes attribute is deprecated and will be removed from demoji in a future version. It is an unused attribute as emoji codes are now distributed directly with the demoji package.\n",
      "  demoji.download_codes()\n"
     ]
    }
   ],
   "source": [
    "import demoji\n",
    "demoji.download_codes()"
   ]
  },
  {
   "cell_type": "code",
   "execution_count": 40,
   "metadata": {},
   "outputs": [
    {
     "data": {
      "text/plain": [
       "{'🤣': 'rolling on the floor laughing',\n",
       " '🔥': 'fire',\n",
       " '💯': 'hundred points',\n",
       " '🙏': 'folded hands'}"
      ]
     },
     "execution_count": 40,
     "metadata": {},
     "output_type": "execute_result"
    }
   ],
   "source": [
    "text = \"@BLKMDL3 @Tesla 🔥🤣💯🙏\"\n",
    "\n",
    "a = demoji.findall(text)\n",
    "a"
   ]
  },
  {
   "cell_type": "code",
   "execution_count": 47,
   "metadata": {},
   "outputs": [
    {
     "ename": "SyntaxError",
     "evalue": "invalid decimal literal (Temp/ipykernel_9344/2257016086.py, line 1)",
     "output_type": "error",
     "traceback": [
      "\u001b[1;36m  File \u001b[1;32m\"C:\\Users\\fathu\\AppData\\Local\\Temp/ipykernel_9344/2257016086.py\"\u001b[1;36m, line \u001b[1;32m1\u001b[0m\n\u001b[1;33m    if U+1F923 in text:\u001b[0m\n\u001b[1;37m         ^\u001b[0m\n\u001b[1;31mSyntaxError\u001b[0m\u001b[1;31m:\u001b[0m invalid decimal literal\n"
     ]
    }
   ],
   "source": []
  },
  {
   "cell_type": "code",
   "execution_count": 71,
   "metadata": {},
   "outputs": [],
   "source": [
    "import emoji\n",
    "\n",
    "a = emoji.demojize(text, delimiters=(\"\", \" \"))"
   ]
  },
  {
   "cell_type": "code",
   "execution_count": 74,
   "metadata": {},
   "outputs": [],
   "source": [
    "path = r'C:\\Users\\fathu\\Downloads\\data (12).csv'\n",
    "\n",
    "ds = pd.read_csv(path)"
   ]
  },
  {
   "cell_type": "code",
   "execution_count": 76,
   "metadata": {},
   "outputs": [
    {
     "data": {
      "text/plain": [
       "Unnamed: 0       0\n",
       "original text    0\n",
       "clean text       7\n",
       "sentiment        0\n",
       "confidence       0\n",
       "dtype: int64"
      ]
     },
     "execution_count": 76,
     "metadata": {},
     "output_type": "execute_result"
    }
   ],
   "source": [
    "ds.isna().sum()"
   ]
  },
  {
   "cell_type": "code",
   "execution_count": 80,
   "metadata": {},
   "outputs": [],
   "source": [
    "ds.dropna(inplace=True)"
   ]
  },
  {
   "cell_type": "code",
   "execution_count": 81,
   "metadata": {},
   "outputs": [
    {
     "data": {
      "text/plain": [
       "Unnamed: 0       0\n",
       "original text    0\n",
       "clean text       0\n",
       "sentiment        0\n",
       "confidence       0\n",
       "dtype: int64"
      ]
     },
     "execution_count": 81,
     "metadata": {},
     "output_type": "execute_result"
    }
   ],
   "source": [
    "ds.isna().sum()"
   ]
  },
  {
   "cell_type": "code",
   "execution_count": null,
   "metadata": {},
   "outputs": [],
   "source": []
  }
 ],
 "metadata": {
  "interpreter": {
   "hash": "7e92f489c4a38462475c5326a50d334cb8b754652cdfac1179db124b4434fa94"
  },
  "kernelspec": {
   "display_name": "Python 3.10.0 64-bit ('myenv': venv)",
   "language": "python",
   "name": "python3"
  },
  "language_info": {
   "codemirror_mode": {
    "name": "ipython",
    "version": 3
   },
   "file_extension": ".py",
   "mimetype": "text/x-python",
   "name": "python",
   "nbconvert_exporter": "python",
   "pygments_lexer": "ipython3",
   "version": "3.10.0"
  },
  "orig_nbformat": 4
 },
 "nbformat": 4,
 "nbformat_minor": 2
}
