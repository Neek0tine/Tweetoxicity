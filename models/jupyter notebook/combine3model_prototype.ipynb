{
 "cells": [
  {
   "cell_type": "code",
   "execution_count": 30,
   "metadata": {},
   "outputs": [],
   "source": [
    "import pickle\n",
    "import numpy as np\n",
    "from packages.text import cleaning, flat\n",
    "import pandas as pd"
   ]
  },
  {
   "cell_type": "code",
   "execution_count": 31,
   "metadata": {},
   "outputs": [
    {
     "data": {
      "text/plain": [
       "<function BufferedReader.close>"
      ]
     },
     "execution_count": 31,
     "metadata": {},
     "output_type": "execute_result"
    }
   ],
   "source": [
    "file = open('pickle/CombineModel.pkl', 'rb')\n",
    "model = pickle.load(file)\n",
    "file.close()\n",
    "\n",
    "file = open('pickle/vectorizer.pkl', 'rb')\n",
    "vectorizer = pickle.load(file)\n",
    "file.close"
   ]
  },
  {
   "cell_type": "code",
   "execution_count": 32,
   "metadata": {},
   "outputs": [],
   "source": [
    "def textclean(x):\n",
    "    print(f'Text Input: {x}')\n",
    "    clean = cleaning(x)\n",
    "    vec_inputs = vectorizer.transform([clean])\n",
    "    \n",
    "    return calculatemodel(vec_inputs)\n",
    "\n",
    "def calculatemodel(x):\n",
    "    vec_inputs = x\n",
    "    LRpred = model['LRmodel'].predict(vec_inputs)\n",
    "    SVCpred = model['SVCmodel'].predict(vec_inputs)\n",
    "    BNBpred = model['BNBmodel'].predict(vec_inputs)\n",
    "    \n",
    "    LRpred_conf = max(flat(model['LRmodel'].predict_proba(vec_inputs)))\n",
    "    SVCpred_conf = max(flat(model['SVCmodel'].predict_proba(vec_inputs)))\n",
    "    BNBpred_conf = max(flat(model['BNBmodel'].predict_proba(vec_inputs)))\n",
    "    \n",
    "    result = np.concatenate((LRpred, SVCpred, BNBpred))\n",
    "    result_conf = [LRpred_conf, SVCpred_conf, BNBpred_conf]\n",
    "    \n",
    "    result = pd.DataFrame({\n",
    "    'model': ['Logistic Reg', 'SVM', 'NB'],\n",
    "    'predict': result,\n",
    "    'confidence': result_conf\n",
    "    })\n",
    "    \n",
    "    print(f'{result}')\n",
    "    \n",
    "    return pickmodel(result)\n",
    "\n",
    "def pickmodel(x):\n",
    "    result_pred = x.predict.mode()[0]\n",
    "    confidence = round(x[x['predict'] == x.predict.mode()[0]]['confidence'].max()*100,2)\n",
    "    print(f\"Sentiment: {result_pred}\")\n",
    "    print(f\"Confidence Level: {confidence}%\\n\")"
   ]
  },
  {
   "cell_type": "code",
   "execution_count": 33,
   "metadata": {},
   "outputs": [
    {
     "name": "stdout",
     "output_type": "stream",
     "text": [
      "Text Input: happy birthday!!! @obama\n",
      "          model   predict  confidence\n",
      "0  Logistic Reg  POSITIVE    0.985974\n",
      "1           SVM  POSITIVE    0.937025\n",
      "2            NB  POSITIVE    0.990857\n",
      "Sentiment: POSITIVE\n",
      "Confidence Level: 99.09%\n",
      "\n",
      "Text Input: @d0n4ldTrump genshin is such a boring games\n",
      "          model   predict  confidence\n",
      "0  Logistic Reg  NEGATIVE    0.843485\n",
      "1           SVM  NEGATIVE    0.771867\n",
      "2            NB  NEGATIVE    0.711912\n",
      "Sentiment: NEGATIVE\n",
      "Confidence Level: 84.35%\n",
      "\n"
     ]
    }
   ],
   "source": [
    "inputs = [\"happy birthday!!! @obama\", \"@d0n4ldTrump genshin is such a boring games\"]\n",
    "    \n",
    "for i in inputs:\n",
    "    textclean(i)"
   ]
  },
  {
   "cell_type": "code",
   "execution_count": null,
   "metadata": {},
   "outputs": [],
   "source": []
  }
 ],
 "metadata": {
  "interpreter": {
   "hash": "c9614373613a18e3522af50f71d4d8a6930b31566ad7ad82e9aaf0473e52b5d3"
  },
  "kernelspec": {
   "display_name": "Python 3.10.0 64-bit ('myenv': venv)",
   "language": "python",
   "name": "python3"
  },
  "language_info": {
   "codemirror_mode": {
    "name": "ipython",
    "version": 3
   },
   "file_extension": ".py",
   "mimetype": "text/x-python",
   "name": "python",
   "nbconvert_exporter": "python",
   "pygments_lexer": "ipython3",
   "version": "3.10.0"
  },
  "orig_nbformat": 4
 },
 "nbformat": 4,
 "nbformat_minor": 2
}
