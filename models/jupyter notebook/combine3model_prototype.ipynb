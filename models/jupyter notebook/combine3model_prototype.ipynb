{
 "cells": [
  {
   "cell_type": "code",
   "execution_count": 2,
   "metadata": {},
   "outputs": [],
   "source": [
    "import pickle\n",
    "import numpy as np\n",
    "from packages.text import cleaning, flat\n",
    "import pandas as pd"
   ]
  },
  {
   "cell_type": "code",
   "execution_count": 4,
   "metadata": {},
   "outputs": [],
   "source": [
    "def load_model():\n",
    "    file = open('./pickle/CombineModel.pkl', 'rb')\n",
    "    model = pickle.load(file)\n",
    "    file.close()\n",
    "\n",
    "    file = open('./pickle/vectorizer.pkl', 'rb')\n",
    "    vectorizer = pickle.load(file)\n",
    "    file.close\n",
    "    \n",
    "    return model, vectorizer\n",
    "\n",
    "def predict(model, vectorizer, texts):\n",
    "    data = []\n",
    "    \n",
    "    for text in texts:\n",
    "        clean = cleaning(text)\n",
    "        vec_inputs = vectorizer.transform([clean])\n",
    "        \n",
    "        LRpred = model['LRmodel'].predict(vec_inputs)\n",
    "        SVCpred = model['SVCmodel'].predict(vec_inputs)\n",
    "        BNBpred = model['BNBmodel'].predict(vec_inputs)\n",
    "        \n",
    "        LRpred_conf = max(flat(model['LRmodel'].predict_proba(vec_inputs)))\n",
    "        SVCpred_conf = max(flat(model['SVCmodel'].predict_proba(vec_inputs)))\n",
    "        BNBpred_conf = max(flat(model['BNBmodel'].predict_proba(vec_inputs)))\n",
    "        \n",
    "        result = np.concatenate((LRpred, SVCpred, BNBpred))\n",
    "        result_conf = [LRpred_conf, SVCpred_conf, BNBpred_conf]\n",
    "        \n",
    "        result = pd.DataFrame({\n",
    "        'model': ['Logistic Reg', 'SVM', 'NB'],\n",
    "        'predict': result,\n",
    "        'confidence': result_conf\n",
    "        })\n",
    "        \n",
    "        result_pred = result.predict.mode()[0]\n",
    "        confidence = round(result[result['predict'] == result.predict.mode()[0]]['confidence'].mean()*100,2)\n",
    "        \n",
    "        data.append((text, clean, result_pred, confidence))\n",
    "        \n",
    "    df = pd.DataFrame(data, columns=['original text', 'clean text','sentiment', 'confidence'])\n",
    "    return df\n",
    "\n",
    "def main(path):\n",
    "    test = pd.read_csv(path)\n",
    "    text = test['1']\n",
    "    \n",
    "    model, vectorizer = load_model()\n",
    "    \n",
    "    inputTest = predict(model, vectorizer, text)\n",
    "    \n",
    "    return inputTest\n"
   ]
  },
  {
   "cell_type": "code",
   "execution_count": 9,
   "metadata": {},
   "outputs": [
    {
     "ename": "FileNotFoundError",
     "evalue": "[Errno 2] No such file or directory: './pickle/CombineModel.pkl'",
     "output_type": "error",
     "traceback": [
      "\u001b[1;31m---------------------------------------------------------------------------\u001b[0m",
      "\u001b[1;31mFileNotFoundError\u001b[0m                         Traceback (most recent call last)",
      "\u001b[1;32m~\\AppData\\Local\\Temp/ipykernel_7460/3126329881.py\u001b[0m in \u001b[0;36m<module>\u001b[1;34m\u001b[0m\n\u001b[1;32m----> 1\u001b[1;33m \u001b[0mAccountSentiment\u001b[0m \u001b[1;33m=\u001b[0m \u001b[0mmain\u001b[0m\u001b[1;33m(\u001b[0m\u001b[1;34m'D:\\Project Alpro\\Tweetoxicity\\models\\data\\Tweets of POTUS.csv'\u001b[0m\u001b[1;33m)\u001b[0m\u001b[1;33m\u001b[0m\u001b[1;33m\u001b[0m\u001b[0m\n\u001b[0m\u001b[0;32m      2\u001b[0m \u001b[0mAccountSentiment\u001b[0m\u001b[1;33m.\u001b[0m\u001b[0mhead\u001b[0m\u001b[1;33m(\u001b[0m\u001b[1;33m)\u001b[0m\u001b[1;33m\u001b[0m\u001b[1;33m\u001b[0m\u001b[0m\n",
      "\u001b[1;32m~\\AppData\\Local\\Temp/ipykernel_7460/4202311666.py\u001b[0m in \u001b[0;36mmain\u001b[1;34m(path)\u001b[0m\n\u001b[0;32m     46\u001b[0m     \u001b[0mtext\u001b[0m \u001b[1;33m=\u001b[0m \u001b[0mtest\u001b[0m\u001b[1;33m[\u001b[0m\u001b[1;34m'1'\u001b[0m\u001b[1;33m]\u001b[0m\u001b[1;33m\u001b[0m\u001b[1;33m\u001b[0m\u001b[0m\n\u001b[0;32m     47\u001b[0m \u001b[1;33m\u001b[0m\u001b[0m\n\u001b[1;32m---> 48\u001b[1;33m     \u001b[0mmodel\u001b[0m\u001b[1;33m,\u001b[0m \u001b[0mvectorizer\u001b[0m \u001b[1;33m=\u001b[0m \u001b[0mload_model\u001b[0m\u001b[1;33m(\u001b[0m\u001b[1;33m)\u001b[0m\u001b[1;33m\u001b[0m\u001b[1;33m\u001b[0m\u001b[0m\n\u001b[0m\u001b[0;32m     49\u001b[0m \u001b[1;33m\u001b[0m\u001b[0m\n\u001b[0;32m     50\u001b[0m     \u001b[0minputTest\u001b[0m \u001b[1;33m=\u001b[0m \u001b[0mpredict\u001b[0m\u001b[1;33m(\u001b[0m\u001b[0mmodel\u001b[0m\u001b[1;33m,\u001b[0m \u001b[0mvectorizer\u001b[0m\u001b[1;33m,\u001b[0m \u001b[0mtext\u001b[0m\u001b[1;33m)\u001b[0m\u001b[1;33m\u001b[0m\u001b[1;33m\u001b[0m\u001b[0m\n",
      "\u001b[1;32m~\\AppData\\Local\\Temp/ipykernel_7460/4202311666.py\u001b[0m in \u001b[0;36mload_model\u001b[1;34m()\u001b[0m\n\u001b[0;32m      1\u001b[0m \u001b[1;32mdef\u001b[0m \u001b[0mload_model\u001b[0m\u001b[1;33m(\u001b[0m\u001b[1;33m)\u001b[0m\u001b[1;33m:\u001b[0m\u001b[1;33m\u001b[0m\u001b[1;33m\u001b[0m\u001b[0m\n\u001b[1;32m----> 2\u001b[1;33m     \u001b[0mfile\u001b[0m \u001b[1;33m=\u001b[0m \u001b[0mopen\u001b[0m\u001b[1;33m(\u001b[0m\u001b[1;34m'./pickle/CombineModel.pkl'\u001b[0m\u001b[1;33m,\u001b[0m \u001b[1;34m'rb'\u001b[0m\u001b[1;33m)\u001b[0m\u001b[1;33m\u001b[0m\u001b[1;33m\u001b[0m\u001b[0m\n\u001b[0m\u001b[0;32m      3\u001b[0m     \u001b[0mmodel\u001b[0m \u001b[1;33m=\u001b[0m \u001b[0mpickle\u001b[0m\u001b[1;33m.\u001b[0m\u001b[0mload\u001b[0m\u001b[1;33m(\u001b[0m\u001b[0mfile\u001b[0m\u001b[1;33m)\u001b[0m\u001b[1;33m\u001b[0m\u001b[1;33m\u001b[0m\u001b[0m\n\u001b[0;32m      4\u001b[0m     \u001b[0mfile\u001b[0m\u001b[1;33m.\u001b[0m\u001b[0mclose\u001b[0m\u001b[1;33m(\u001b[0m\u001b[1;33m)\u001b[0m\u001b[1;33m\u001b[0m\u001b[1;33m\u001b[0m\u001b[0m\n\u001b[0;32m      5\u001b[0m \u001b[1;33m\u001b[0m\u001b[0m\n",
      "\u001b[1;31mFileNotFoundError\u001b[0m: [Errno 2] No such file or directory: './pickle/CombineModel.pkl'"
     ]
    }
   ],
   "source": [
    "AccountSentiment = main('D:\\Project Alpro\\Tweetoxicity\\models\\data\\Tweets of POTUS.csv')\n",
    "AccountSentiment.head()"
   ]
  },
  {
   "cell_type": "code",
   "execution_count": null,
   "metadata": {},
   "outputs": [
    {
     "data": {
      "text/html": [
       "<div>\n",
       "<style scoped>\n",
       "    .dataframe tbody tr th:only-of-type {\n",
       "        vertical-align: middle;\n",
       "    }\n",
       "\n",
       "    .dataframe tbody tr th {\n",
       "        vertical-align: top;\n",
       "    }\n",
       "\n",
       "    .dataframe thead th {\n",
       "        text-align: right;\n",
       "    }\n",
       "</style>\n",
       "<table border=\"1\" class=\"dataframe\">\n",
       "  <thead>\n",
       "    <tr style=\"text-align: right;\">\n",
       "      <th></th>\n",
       "      <th>Sentiment</th>\n",
       "      <th>Ratio</th>\n",
       "    </tr>\n",
       "  </thead>\n",
       "  <tbody>\n",
       "    <tr>\n",
       "      <th>0</th>\n",
       "      <td>POSITIVE</td>\n",
       "      <td>68.0</td>\n",
       "    </tr>\n",
       "    <tr>\n",
       "      <th>1</th>\n",
       "      <td>NEGATIVE</td>\n",
       "      <td>32.0</td>\n",
       "    </tr>\n",
       "  </tbody>\n",
       "</table>\n",
       "</div>"
      ],
      "text/plain": [
       "  Sentiment  Ratio\n",
       "0  POSITIVE   68.0\n",
       "1  NEGATIVE   32.0"
      ]
     },
     "execution_count": 52,
     "metadata": {},
     "output_type": "execute_result"
    }
   ],
   "source": [
    "POSITIVE = AccountSentiment['sentiment'].value_counts()[\"POSITIVE\"] / len(AccountSentiment['sentiment']) * 100\n",
    "NEGATIVE = AccountSentiment['sentiment'].value_counts()[\"NEGATIVE\"] / len(AccountSentiment['sentiment']) * 100\n",
    "\n",
    "Sentiment_ratio = {\n",
    "    'Sentiment': [\"POSITIVE\", \"NEGATIVE\"],\n",
    "    'Ratio': [POSITIVE, NEGATIVE]\n",
    "}\n",
    "\n",
    "Result = pd.DataFrame(Sentiment_ratio)\n",
    "Result"
   ]
  },
  {
   "cell_type": "code",
   "execution_count": null,
   "metadata": {},
   "outputs": [],
   "source": []
  }
 ],
 "metadata": {
  "interpreter": {
   "hash": "c9614373613a18e3522af50f71d4d8a6930b31566ad7ad82e9aaf0473e52b5d3"
  },
  "kernelspec": {
   "display_name": "Python 3.10.0 64-bit ('myenv': venv)",
   "language": "python",
   "name": "python3"
  },
  "language_info": {
   "codemirror_mode": {
    "name": "ipython",
    "version": 3
   },
   "file_extension": ".py",
   "mimetype": "text/x-python",
   "name": "python",
   "nbconvert_exporter": "python",
   "pygments_lexer": "ipython3",
   "version": "3.10.0"
  },
  "orig_nbformat": 4
 },
 "nbformat": 4,
 "nbformat_minor": 2
}
