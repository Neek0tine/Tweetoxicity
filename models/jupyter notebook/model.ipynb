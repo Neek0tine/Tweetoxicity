{
 "cells": [
  {
   "cell_type": "code",
   "execution_count": 12,
   "metadata": {},
   "outputs": [],
   "source": [
    "# util\n",
    "import pandas as pd\n",
    "import numpy as np\n",
    "import pickle\n",
    "\n",
    "# plotting\n",
    "import matplotlib.pyplot as plt\n",
    "import seaborn as sns\n",
    "\n",
    "# sklearn\n",
    "from sklearn.svm import LinearSVC\n",
    "from sklearn.naive_bayes import BernoulliNB\n",
    "from sklearn.linear_model import LogisticRegression\n",
    "\n",
    "from sklearn.feature_extraction.text import TfidfVectorizer\n",
    "from sklearn.metrics import confusion_matrix, classification_report\n",
    "from sklearn.model_selection import train_test_split\n",
    "\n",
    "# cross validation \n",
    "from sklearn.model_selection import cross_val_score"
   ]
  },
  {
   "cell_type": "markdown",
   "metadata": {},
   "source": [
    "# Load Clean Data"
   ]
  },
  {
   "cell_type": "code",
   "execution_count": 3,
   "metadata": {},
   "outputs": [
    {
     "name": "stdout",
     "output_type": "stream",
     "text": [
      "Wall time: 5.41 s\n"
     ]
    }
   ],
   "source": [
    "%%time\n",
    "files = \"clean_twitter_sentimen.csv\" \n",
    "chunk = pd.read_csv(files, chunksize=100000, encoding='ISO-8859-1')\n",
    "df = pd.concat(chunk).sample(frac=1, random_state=42).reset_index(drop=True).dropna()"
   ]
  },
  {
   "cell_type": "code",
   "execution_count": 4,
   "metadata": {},
   "outputs": [
    {
     "name": "stdout",
     "output_type": "stream",
     "text": [
      "(1591981, 3)\n"
     ]
    },
    {
     "data": {
      "text/html": [
       "<div>\n",
       "<style scoped>\n",
       "    .dataframe tbody tr th:only-of-type {\n",
       "        vertical-align: middle;\n",
       "    }\n",
       "\n",
       "    .dataframe tbody tr th {\n",
       "        vertical-align: top;\n",
       "    }\n",
       "\n",
       "    .dataframe thead th {\n",
       "        text-align: right;\n",
       "    }\n",
       "</style>\n",
       "<table border=\"1\" class=\"dataframe\">\n",
       "  <thead>\n",
       "    <tr style=\"text-align: right;\">\n",
       "      <th></th>\n",
       "      <th>target</th>\n",
       "      <th>text</th>\n",
       "      <th>cleaned_text</th>\n",
       "    </tr>\n",
       "  </thead>\n",
       "  <tbody>\n",
       "    <tr>\n",
       "      <th>0</th>\n",
       "      <td>NEGATIVE</td>\n",
       "      <td>internet is slow on me today likes</td>\n",
       "      <td>internet slow today like</td>\n",
       "    </tr>\n",
       "    <tr>\n",
       "      <th>1</th>\n",
       "      <td>POSITIVE</td>\n",
       "      <td>@tooclevername to those with hammers, everythi...</td>\n",
       "      <td>hammer everything look like nail</td>\n",
       "    </tr>\n",
       "    <tr>\n",
       "      <th>2</th>\n",
       "      <td>NEGATIVE</td>\n",
       "      <td>These kids are crazy  save me</td>\n",
       "      <td>kid crazy save</td>\n",
       "    </tr>\n",
       "    <tr>\n",
       "      <th>3</th>\n",
       "      <td>NEGATIVE</td>\n",
       "      <td>my puppy libby scratched my heel  and now it's...</td>\n",
       "      <td>puppy libby scratched heel bleeding got bandaid</td>\n",
       "    </tr>\n",
       "    <tr>\n",
       "      <th>4</th>\n",
       "      <td>POSITIVE</td>\n",
       "      <td>okay, my ipod has been synced. FINALLY. so hap...</td>\n",
       "      <td>okay ipod synced finally happy anywho painting...</td>\n",
       "    </tr>\n",
       "  </tbody>\n",
       "</table>\n",
       "</div>"
      ],
      "text/plain": [
       "     target                                               text  \\\n",
       "0  NEGATIVE                internet is slow on me today likes    \n",
       "1  POSITIVE  @tooclevername to those with hammers, everythi...   \n",
       "2  NEGATIVE                      These kids are crazy  save me   \n",
       "3  NEGATIVE  my puppy libby scratched my heel  and now it's...   \n",
       "4  POSITIVE  okay, my ipod has been synced. FINALLY. so hap...   \n",
       "\n",
       "                                        cleaned_text  \n",
       "0                           internet slow today like  \n",
       "1                   hammer everything look like nail  \n",
       "2                                     kid crazy save  \n",
       "3    puppy libby scratched heel bleeding got bandaid  \n",
       "4  okay ipod synced finally happy anywho painting...  "
      ]
     },
     "execution_count": 4,
     "metadata": {},
     "output_type": "execute_result"
    }
   ],
   "source": [
    "print(df.shape)\n",
    "df.head()"
   ]
  },
  {
   "cell_type": "markdown",
   "metadata": {},
   "source": [
    "# Modelling"
   ]
  },
  {
   "cell_type": "code",
   "execution_count": 40,
   "metadata": {},
   "outputs": [],
   "source": [
    "x = df['cleaned_text']\n",
    "y = df['target']\n",
    "\n",
    "X_train, X_test, y_train, y_test = train_test_split(x, y, test_size=0.1, random_state=42, stratify=y)"
   ]
  },
  {
   "cell_type": "code",
   "execution_count": 41,
   "metadata": {},
   "outputs": [
    {
     "name": "stdout",
     "output_type": "stream",
     "text": [
      "Wall time: 1min 15s\n"
     ]
    }
   ],
   "source": [
    "%%time\n",
    "vectorizer = TfidfVectorizer(ngram_range=(1,2), max_features=500000)\n",
    "vectorizer.fit_transform(X_train)\n",
    "\n",
    "train_x_vector = vectorizer.transform(X_train)\n",
    "test_x_vector =  vectorizer.transform(X_test)"
   ]
  },
  {
   "cell_type": "code",
   "execution_count": 42,
   "metadata": {},
   "outputs": [],
   "source": [
    "def model_Evaluate(model):\n",
    "    \n",
    "    # Predict values for Test dataset\n",
    "    y_pred = model.predict(test_x_vector)\n",
    "\n",
    "    # Print the evaluation metrics for the dataset.\n",
    "    print(classification_report(y_test, y_pred))\n",
    "    \n",
    "    # Compute and plot the Confusion matrix\n",
    "    cf_matrix = confusion_matrix(y_test, y_pred)\n",
    "\n",
    "    categories  = ['Negative','Positive']\n",
    "    group_names = ['True Neg','False Pos', 'False Neg','True Pos']\n",
    "    group_percentages = ['{0:.2%}'.format(value) for value in cf_matrix.flatten() / np.sum(cf_matrix)]\n",
    "\n",
    "    labels = [f'{v1}\\n{v2}' for v1, v2 in zip(group_names,group_percentages)]\n",
    "    labels = np.asarray(labels).reshape(2,2)\n",
    "\n",
    "    sns.heatmap(cf_matrix, annot = labels, cmap = 'Blues',fmt = '',\n",
    "                xticklabels = categories, yticklabels = categories)\n",
    "\n",
    "    plt.xlabel(\"Predicted values\", fontdict = {'size':14}, labelpad = 10)\n",
    "    plt.ylabel(\"Actual values\"   , fontdict = {'size':14}, labelpad = 10)\n",
    "    plt.title (\"Confusion Matrix\", fontdict = {'size':18}, pad = 20)"
   ]
  },
  {
   "cell_type": "markdown",
   "metadata": {},
   "source": [
    "# Naive Bayes"
   ]
  },
  {
   "cell_type": "code",
   "execution_count": 43,
   "metadata": {},
   "outputs": [
    {
     "name": "stdout",
     "output_type": "stream",
     "text": [
      "              precision    recall  f1-score   support\n",
      "\n",
      "    NEGATIVE       0.80      0.76      0.78     79612\n",
      "    POSITIVE       0.77      0.81      0.79     79587\n",
      "\n",
      "    accuracy                           0.78    159199\n",
      "   macro avg       0.78      0.78      0.78    159199\n",
      "weighted avg       0.78      0.78      0.78    159199\n",
      "\n",
      "Wall time: 12.8 s\n"
     ]
    },
    {
     "data": {
      "image/png": "[encoded data removed]",
      "text/plain": [
       "<Figure size 432x288 with 2 Axes>"
      ]
     },
     "metadata": {
      "needs_background": "light"
     },
     "output_type": "display_data"
    }
   ],
   "source": [
    "%%time\n",
    "BNBmodel = BernoulliNB(alpha=1)\n",
    "BNBmodel.fit(train_x_vector, y_train)\n",
    "model_Evaluate(BNBmodel)"
   ]
  },
  {
   "cell_type": "markdown",
   "metadata": {},
   "source": [
    "# SVM Linear"
   ]
  },
  {
   "cell_type": "code",
   "execution_count": 44,
   "metadata": {},
   "outputs": [
    {
     "name": "stdout",
     "output_type": "stream",
     "text": [
      "              precision    recall  f1-score   support\n",
      "\n",
      "    NEGATIVE       0.79      0.77      0.78     79612\n",
      "    POSITIVE       0.78      0.80      0.79     79587\n",
      "\n",
      "    accuracy                           0.79    159199\n",
      "   macro avg       0.79      0.79      0.79    159199\n",
      "weighted avg       0.79      0.79      0.79    159199\n",
      "\n",
      "Wall time: 2min 18s\n"
     ]
    },
    {
     "data": {
      "image/png": "[encoded data removed]",
      "text/plain": [
       "<Figure size 432x288 with 2 Axes>"
      ]
     },
     "metadata": {
      "needs_background": "light"
     },
     "output_type": "display_data"
    }
   ],
   "source": [
    "%%time\n",
    "from sklearn.calibration import CalibratedClassifierCV\n",
    "\n",
    "SVCmodel = CalibratedClassifierCV(LinearSVC())\n",
    "SVCmodel.fit(train_x_vector, y_train)\n",
    "model_Evaluate(SVCmodel)"
   ]
  },
  {
   "cell_type": "markdown",
   "metadata": {},
   "source": [
    "# Logistic Regression"
   ]
  },
  {
   "cell_type": "code",
   "execution_count": 45,
   "metadata": {},
   "outputs": [
    {
     "name": "stdout",
     "output_type": "stream",
     "text": [
      "              precision    recall  f1-score   support\n",
      "\n",
      "    NEGATIVE       0.80      0.78      0.79     79612\n",
      "    POSITIVE       0.79      0.81      0.80     79587\n",
      "\n",
      "    accuracy                           0.80    159199\n",
      "   macro avg       0.80      0.80      0.80    159199\n",
      "weighted avg       0.80      0.80      0.80    159199\n",
      "\n",
      "Wall time: 3min 41s\n"
     ]
    },
    {
     "data": {
      "image/png": "[encoded data removed]",
      "text/plain": [
       "<Figure size 432x288 with 2 Axes>"
      ]
     },
     "metadata": {
      "needs_background": "light"
     },
     "output_type": "display_data"
    }
   ],
   "source": [
    "%%time\n",
    "LRmodel = LogisticRegression(C=2, max_iter=10000)\n",
    "LRmodel.fit(train_x_vector, y_train)\n",
    "model_Evaluate(LRmodel)"
   ]
  },
  {
   "cell_type": "markdown",
   "metadata": {},
   "source": [
    "## DEMO"
   ]
  },
  {
   "cell_type": "code",
   "execution_count": 48,
   "metadata": {},
   "outputs": [
    {
     "name": "stdout",
     "output_type": "stream",
     "text": [
      "===LogisticRegression(C=2, max_iter=10000)===\n",
      "text: genshin boring game\n",
      "sentiment: NEGATIVE\n",
      "probability: 0.858\n",
      "\n",
      "\n",
      "===CalibratedClassifierCV(base_estimator=LinearSVC())===\n",
      "text: genshin boring game\n",
      "sentiment: NEGATIVE\n",
      "probability: 0.803\n",
      "\n",
      "\n",
      "===BernoulliNB(alpha=1)===\n",
      "text: genshin boring game\n",
      "sentiment: NEGATIVE\n",
      "probability: 0.709\n",
      "\n",
      "\n"
     ]
    }
   ],
   "source": [
    "# Local Packages\n",
    "from text import cleaning, flat\n",
    "\n",
    "inputs = \"genshin is such a boring games\"\n",
    "cleaning = cleaning(inputs)\n",
    "X_test = vectorizer.transform([cleaning])\n",
    "\n",
    "for model in [LRmodel, SVCmodel, BNBmodel]:\n",
    "    print(f\"==={model}===\")\n",
    "    print(f'text: {cleaning}')\n",
    "    sentiment = model.predict(X_test)\n",
    "    sentiment_proba = model.predict_proba(X_test)\n",
    "    print(f'sentiment: {\"\".join(sentiment)}')\n",
    "    print(f'probability: {round(max(flat(sentiment_proba)),3)}')\n",
    "    print('\\n')"
   ]
  },
  {
   "cell_type": "markdown",
   "metadata": {},
   "source": [
    "# SAVING FILES"
   ]
  },
  {
   "cell_type": "code",
   "execution_count": 47,
   "metadata": {},
   "outputs": [],
   "source": [
    "# Models\n",
    "models = {\n",
    "    \"LRmodel\": LRmodel,\n",
    "    \"SVCmodel\": SVCmodel,\n",
    "    \"BNBmodel\": BNBmodel\n",
    "}\n",
    "with open('CombineModel.pkl', 'wb') as filemodel:\n",
    "    pickle.dump(models, filemodel) \n",
    "\n",
    "# Vectorizer\n",
    "with open('vectorizer.pkl', 'wb') as filevectorizer:\n",
    "    pickle.dump(vectorizer, filevectorizer) \n"
   ]
  }
 ],
 "metadata": {
  "interpreter": {
   "hash": "c9614373613a18e3522af50f71d4d8a6930b31566ad7ad82e9aaf0473e52b5d3"
  },
  "kernelspec": {
   "display_name": "Python 3.10.0 64-bit ('myenv': venv)",
   "language": "python",
   "name": "python3"
  },
  "language_info": {
   "codemirror_mode": {
    "name": "ipython",
    "version": 3
   },
   "file_extension": ".py",
   "mimetype": "text/x-python",
   "name": "python",
   "nbconvert_exporter": "python",
   "pygments_lexer": "ipython3",
   "version": "3.10.0"
  },
  "orig_nbformat": 4
 },
 "nbformat": 4,
 "nbformat_minor": 2
}
